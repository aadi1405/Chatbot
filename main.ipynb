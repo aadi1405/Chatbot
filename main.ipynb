{
 "cells": [
  {
   "cell_type": "code",
   "execution_count": 2,
   "metadata": {},
   "outputs": [],
   "source": [
    "import os\n",
    "import telebot\n",
    "API_KEY= '1793082847:AAEERHOUXI-MQbg0b_zDE256g8YDK5qgV6Y'"
   ]
  },
  {
   "cell_type": "code",
   "execution_count": null,
   "metadata": {},
   "outputs": [],
   "source": [
    "bot=telebot.TeleBot(API_KEY)\n",
    "\n",
    "@bot.message_handler(commands=['Greet'])\n",
    "def greet(message):\n",
    "    bot.reply_to(message,\"Hello! I am the Student assitance chatbot\")\n",
    "\n",
    "@bot.message_handler(commands=['Hello'])\n",
    "def hello(message):\n",
    "    bot.send_message(message.chat.id,\"Hiii! Welcome to the BPDC AI Chat BOT\")\n",
    "    \n",
    "@bot.message_handler(commands=['timetable'])\n",
    "def hello(message):\n",
    "    bot.send_message(message.chat.id,\"Hiii! Welcome to the BPDC AI Chat BOT\")\n",
    "    \n",
    "bot.polling()"
   ]
  },
  {
   "cell_type": "code",
   "execution_count": null,
   "metadata": {},
   "outputs": [],
   "source": []
  }
 ],
 "metadata": {
  "kernelspec": {
   "display_name": "Python 3",
   "language": "python",
   "name": "python3"
  },
  "language_info": {
   "codemirror_mode": {
    "name": "ipython",
    "version": 3
   },
   "file_extension": ".py",
   "mimetype": "text/x-python",
   "name": "python",
   "nbconvert_exporter": "python",
   "pygments_lexer": "ipython3",
   "version": "3.9.0"
  }
 },
 "nbformat": 4,
 "nbformat_minor": 4
}
